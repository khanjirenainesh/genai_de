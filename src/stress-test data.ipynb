{
 "cells": [
  {
   "cell_type": "code",
   "execution_count": 0,
   "metadata": {
    "application/vnd.databricks.v1+cell": {
     "cellMetadata": {},
     "inputWidgets": {},
     "nuid": "29512705-a96c-4d7e-a103-f1686c3975ba",
     "showTitle": false,
     "tableResultSettingsMap": {},
     "title": ""
    }
   },
   "outputs": [
    {
     "name": "stdout",
     "output_type": "stream",
     "text": [
      "Python interpreter will be restarted.\n",
      "Requirement already satisfied: pip in /local_disk0/.ephemeral_nfs/envs/pythonEnv-2c6e9b81-4a13-4c5f-86c8-436fd702ec81/lib/python3.9/site-packages (24.3.1)\n",
      "Python interpreter will be restarted.\n"
     ]
    }
   ],
   "source": [
    "%pip install --upgrade pip\n",
    "     "
   ]
  },
  {
   "cell_type": "code",
   "execution_count": 0,
   "metadata": {
    "application/vnd.databricks.v1+cell": {
     "cellMetadata": {},
     "inputWidgets": {},
     "nuid": "225b3fad-ac9e-4513-8d52-fa1f47bb80b6",
     "showTitle": false,
     "tableResultSettingsMap": {},
     "title": ""
    }
   },
   "outputs": [
    {
     "name": "stdout",
     "output_type": "stream",
     "text": [
      "Python interpreter will be restarted.\n",
      "Python interpreter will be restarted.\n"
     ]
    }
   ],
   "source": [
    "%pip install --upgrade --quiet langchain langchain_experimental langchain-openai\n",
    "\n"
   ]
  },
  {
   "cell_type": "code",
   "execution_count": null,
   "metadata": {},
   "outputs": [
    {
     "name": "stdout",
     "output_type": "stream",
     "text": [
      "Collecting langchain-experimental\n",
      "  Downloading langchain_experimental-0.3.3-py3-none-any.whl.metadata (1.7 kB)\n",
      "Requirement already satisfied: langchain-community<0.4.0,>=0.3.0 in c:\\users\\asingh32\\appdata\\local\\packages\\pythonsoftwarefoundation.python.3.11_qbz5n2kfra8p0\\localcache\\local-packages\\python311\\site-packages (from langchain-experimental) (0.3.7)\n",
      "Requirement already satisfied: langchain-core<0.4.0,>=0.3.15 in c:\\users\\asingh32\\appdata\\local\\packages\\pythonsoftwarefoundation.python.3.11_qbz5n2kfra8p0\\localcache\\local-packages\\python311\\site-packages (from langchain-experimental) (0.3.19)\n",
      "Requirement already satisfied: PyYAML>=5.3 in c:\\users\\asingh32\\appdata\\local\\packages\\pythonsoftwarefoundation.python.3.11_qbz5n2kfra8p0\\localcache\\local-packages\\python311\\site-packages (from langchain-community<0.4.0,>=0.3.0->langchain-experimental) (6.0.2)\n",
      "Requirement already satisfied: SQLAlchemy<2.0.36,>=1.4 in c:\\users\\asingh32\\appdata\\local\\packages\\pythonsoftwarefoundation.python.3.11_qbz5n2kfra8p0\\localcache\\local-packages\\python311\\site-packages (from langchain-community<0.4.0,>=0.3.0->langchain-experimental) (2.0.35)\n",
      "Requirement already satisfied: aiohttp<4.0.0,>=3.8.3 in c:\\users\\asingh32\\appdata\\local\\packages\\pythonsoftwarefoundation.python.3.11_qbz5n2kfra8p0\\localcache\\local-packages\\python311\\site-packages (from langchain-community<0.4.0,>=0.3.0->langchain-experimental) (3.11.6)\n",
      "Requirement already satisfied: dataclasses-json<0.7,>=0.5.7 in c:\\users\\asingh32\\appdata\\local\\packages\\pythonsoftwarefoundation.python.3.11_qbz5n2kfra8p0\\localcache\\local-packages\\python311\\site-packages (from langchain-community<0.4.0,>=0.3.0->langchain-experimental) (0.6.7)\n",
      "Requirement already satisfied: httpx-sse<0.5.0,>=0.4.0 in c:\\users\\asingh32\\appdata\\local\\packages\\pythonsoftwarefoundation.python.3.11_qbz5n2kfra8p0\\localcache\\local-packages\\python311\\site-packages (from langchain-community<0.4.0,>=0.3.0->langchain-experimental) (0.4.0)\n",
      "Requirement already satisfied: langchain<0.4.0,>=0.3.7 in c:\\users\\asingh32\\appdata\\local\\packages\\pythonsoftwarefoundation.python.3.11_qbz5n2kfra8p0\\localcache\\local-packages\\python311\\site-packages (from langchain-community<0.4.0,>=0.3.0->langchain-experimental) (0.3.7)\n",
      "Requirement already satisfied: langsmith<0.2.0,>=0.1.125 in c:\\users\\asingh32\\appdata\\local\\packages\\pythonsoftwarefoundation.python.3.11_qbz5n2kfra8p0\\localcache\\local-packages\\python311\\site-packages (from langchain-community<0.4.0,>=0.3.0->langchain-experimental) (0.1.143)\n",
      "Requirement already satisfied: numpy<2,>=1 in c:\\users\\asingh32\\appdata\\local\\packages\\pythonsoftwarefoundation.python.3.11_qbz5n2kfra8p0\\localcache\\local-packages\\python311\\site-packages (from langchain-community<0.4.0,>=0.3.0->langchain-experimental) (1.26.4)\n",
      "Requirement already satisfied: pydantic-settings<3.0.0,>=2.4.0 in c:\\users\\asingh32\\appdata\\local\\packages\\pythonsoftwarefoundation.python.3.11_qbz5n2kfra8p0\\localcache\\local-packages\\python311\\site-packages (from langchain-community<0.4.0,>=0.3.0->langchain-experimental) (2.6.1)\n",
      "Requirement already satisfied: requests<3,>=2 in c:\\users\\asingh32\\appdata\\local\\packages\\pythonsoftwarefoundation.python.3.11_qbz5n2kfra8p0\\localcache\\local-packages\\python311\\site-packages (from langchain-community<0.4.0,>=0.3.0->langchain-experimental) (2.32.3)\n",
      "Requirement already satisfied: tenacity!=8.4.0,<10,>=8.1.0 in c:\\users\\asingh32\\appdata\\local\\packages\\pythonsoftwarefoundation.python.3.11_qbz5n2kfra8p0\\localcache\\local-packages\\python311\\site-packages (from langchain-community<0.4.0,>=0.3.0->langchain-experimental) (9.0.0)\n",
      "Requirement already satisfied: jsonpatch<2.0,>=1.33 in c:\\users\\asingh32\\appdata\\local\\packages\\pythonsoftwarefoundation.python.3.11_qbz5n2kfra8p0\\localcache\\local-packages\\python311\\site-packages (from langchain-core<0.4.0,>=0.3.15->langchain-experimental) (1.33)\n",
      "Requirement already satisfied: packaging<25,>=23.2 in c:\\users\\asingh32\\appdata\\local\\packages\\pythonsoftwarefoundation.python.3.11_qbz5n2kfra8p0\\localcache\\local-packages\\python311\\site-packages (from langchain-core<0.4.0,>=0.3.15->langchain-experimental) (23.2)\n",
      "Requirement already satisfied: pydantic<3.0.0,>=2.5.2 in c:\\users\\asingh32\\appdata\\local\\packages\\pythonsoftwarefoundation.python.3.11_qbz5n2kfra8p0\\localcache\\local-packages\\python311\\site-packages (from langchain-core<0.4.0,>=0.3.15->langchain-experimental) (2.9.2)\n",
      "Requirement already satisfied: typing-extensions>=4.7 in c:\\users\\asingh32\\appdata\\local\\packages\\pythonsoftwarefoundation.python.3.11_qbz5n2kfra8p0\\localcache\\local-packages\\python311\\site-packages (from langchain-core<0.4.0,>=0.3.15->langchain-experimental) (4.12.2)\n",
      "Requirement already satisfied: aiohappyeyeballs>=2.3.0 in c:\\users\\asingh32\\appdata\\local\\packages\\pythonsoftwarefoundation.python.3.11_qbz5n2kfra8p0\\localcache\\local-packages\\python311\\site-packages (from aiohttp<4.0.0,>=3.8.3->langchain-community<0.4.0,>=0.3.0->langchain-experimental) (2.4.3)\n",
      "Requirement already satisfied: aiosignal>=1.1.2 in c:\\users\\asingh32\\appdata\\local\\packages\\pythonsoftwarefoundation.python.3.11_qbz5n2kfra8p0\\localcache\\local-packages\\python311\\site-packages (from aiohttp<4.0.0,>=3.8.3->langchain-community<0.4.0,>=0.3.0->langchain-experimental) (1.3.1)\n",
      "Requirement already satisfied: attrs>=17.3.0 in c:\\users\\asingh32\\appdata\\local\\packages\\pythonsoftwarefoundation.python.3.11_qbz5n2kfra8p0\\localcache\\local-packages\\python311\\site-packages (from aiohttp<4.0.0,>=3.8.3->langchain-community<0.4.0,>=0.3.0->langchain-experimental) (24.2.0)\n",
      "Requirement already satisfied: frozenlist>=1.1.1 in c:\\users\\asingh32\\appdata\\local\\packages\\pythonsoftwarefoundation.python.3.11_qbz5n2kfra8p0\\localcache\\local-packages\\python311\\site-packages (from aiohttp<4.0.0,>=3.8.3->langchain-community<0.4.0,>=0.3.0->langchain-experimental) (1.5.0)\n",
      "Requirement already satisfied: multidict<7.0,>=4.5 in c:\\users\\asingh32\\appdata\\local\\packages\\pythonsoftwarefoundation.python.3.11_qbz5n2kfra8p0\\localcache\\local-packages\\python311\\site-packages (from aiohttp<4.0.0,>=3.8.3->langchain-community<0.4.0,>=0.3.0->langchain-experimental) (6.1.0)\n",
      "Requirement already satisfied: propcache>=0.2.0 in c:\\users\\asingh32\\appdata\\local\\packages\\pythonsoftwarefoundation.python.3.11_qbz5n2kfra8p0\\localcache\\local-packages\\python311\\site-packages (from aiohttp<4.0.0,>=3.8.3->langchain-community<0.4.0,>=0.3.0->langchain-experimental) (0.2.0)\n",
      "Requirement already satisfied: yarl<2.0,>=1.17.0 in c:\\users\\asingh32\\appdata\\local\\packages\\pythonsoftwarefoundation.python.3.11_qbz5n2kfra8p0\\localcache\\local-packages\\python311\\site-packages (from aiohttp<4.0.0,>=3.8.3->langchain-community<0.4.0,>=0.3.0->langchain-experimental) (1.17.2)\n",
      "Requirement already satisfied: marshmallow<4.0.0,>=3.18.0 in c:\\users\\asingh32\\appdata\\local\\packages\\pythonsoftwarefoundation.python.3.11_qbz5n2kfra8p0\\localcache\\local-packages\\python311\\site-packages (from dataclasses-json<0.7,>=0.5.7->langchain-community<0.4.0,>=0.3.0->langchain-experimental) (3.23.1)\n",
      "Requirement already satisfied: typing-inspect<1,>=0.4.0 in c:\\users\\asingh32\\appdata\\local\\packages\\pythonsoftwarefoundation.python.3.11_qbz5n2kfra8p0\\localcache\\local-packages\\python311\\site-packages (from dataclasses-json<0.7,>=0.5.7->langchain-community<0.4.0,>=0.3.0->langchain-experimental) (0.9.0)\n",
      "Requirement already satisfied: jsonpointer>=1.9 in c:\\users\\asingh32\\appdata\\local\\packages\\pythonsoftwarefoundation.python.3.11_qbz5n2kfra8p0\\localcache\\local-packages\\python311\\site-packages (from jsonpatch<2.0,>=1.33->langchain-core<0.4.0,>=0.3.15->langchain-experimental) (3.0.0)\n",
      "Requirement already satisfied: langchain-text-splitters<0.4.0,>=0.3.0 in c:\\users\\asingh32\\appdata\\local\\packages\\pythonsoftwarefoundation.python.3.11_qbz5n2kfra8p0\\localcache\\local-packages\\python311\\site-packages (from langchain<0.4.0,>=0.3.7->langchain-community<0.4.0,>=0.3.0->langchain-experimental) (0.3.2)\n",
      "Requirement already satisfied: httpx<1,>=0.23.0 in c:\\users\\asingh32\\appdata\\local\\packages\\pythonsoftwarefoundation.python.3.11_qbz5n2kfra8p0\\localcache\\local-packages\\python311\\site-packages (from langsmith<0.2.0,>=0.1.125->langchain-community<0.4.0,>=0.3.0->langchain-experimental) (0.27.2)\n",
      "Requirement already satisfied: orjson<4.0.0,>=3.9.14 in c:\\users\\asingh32\\appdata\\local\\packages\\pythonsoftwarefoundation.python.3.11_qbz5n2kfra8p0\\localcache\\local-packages\\python311\\site-packages (from langsmith<0.2.0,>=0.1.125->langchain-community<0.4.0,>=0.3.0->langchain-experimental) (3.10.11)\n",
      "Requirement already satisfied: requests-toolbelt<2.0.0,>=1.0.0 in c:\\users\\asingh32\\appdata\\local\\packages\\pythonsoftwarefoundation.python.3.11_qbz5n2kfra8p0\\localcache\\local-packages\\python311\\site-packages (from langsmith<0.2.0,>=0.1.125->langchain-community<0.4.0,>=0.3.0->langchain-experimental) (1.0.0)\n",
      "Requirement already satisfied: annotated-types>=0.6.0 in c:\\users\\asingh32\\appdata\\local\\packages\\pythonsoftwarefoundation.python.3.11_qbz5n2kfra8p0\\localcache\\local-packages\\python311\\site-packages (from pydantic<3.0.0,>=2.5.2->langchain-core<0.4.0,>=0.3.15->langchain-experimental) (0.7.0)\n",
      "Requirement already satisfied: pydantic-core==2.23.4 in c:\\users\\asingh32\\appdata\\local\\packages\\pythonsoftwarefoundation.python.3.11_qbz5n2kfra8p0\\localcache\\local-packages\\python311\\site-packages (from pydantic<3.0.0,>=2.5.2->langchain-core<0.4.0,>=0.3.15->langchain-experimental) (2.23.4)\n",
      "Requirement already satisfied: python-dotenv>=0.21.0 in c:\\users\\asingh32\\appdata\\local\\packages\\pythonsoftwarefoundation.python.3.11_qbz5n2kfra8p0\\localcache\\local-packages\\python311\\site-packages (from pydantic-settings<3.0.0,>=2.4.0->langchain-community<0.4.0,>=0.3.0->langchain-experimental) (1.0.1)\n",
      "Requirement already satisfied: charset-normalizer<4,>=2 in c:\\users\\asingh32\\appdata\\local\\packages\\pythonsoftwarefoundation.python.3.11_qbz5n2kfra8p0\\localcache\\local-packages\\python311\\site-packages (from requests<3,>=2->langchain-community<0.4.0,>=0.3.0->langchain-experimental) (3.4.0)\n",
      "Requirement already satisfied: idna<4,>=2.5 in c:\\users\\asingh32\\appdata\\local\\packages\\pythonsoftwarefoundation.python.3.11_qbz5n2kfra8p0\\localcache\\local-packages\\python311\\site-packages (from requests<3,>=2->langchain-community<0.4.0,>=0.3.0->langchain-experimental) (3.10)\n",
      "Requirement already satisfied: urllib3<3,>=1.21.1 in c:\\users\\asingh32\\appdata\\local\\packages\\pythonsoftwarefoundation.python.3.11_qbz5n2kfra8p0\\localcache\\local-packages\\python311\\site-packages (from requests<3,>=2->langchain-community<0.4.0,>=0.3.0->langchain-experimental) (2.2.3)\n",
      "Requirement already satisfied: certifi>=2017.4.17 in c:\\users\\asingh32\\appdata\\local\\packages\\pythonsoftwarefoundation.python.3.11_qbz5n2kfra8p0\\localcache\\local-packages\\python311\\site-packages (from requests<3,>=2->langchain-community<0.4.0,>=0.3.0->langchain-experimental) (2024.8.30)\n",
      "Requirement already satisfied: greenlet!=0.4.17 in c:\\users\\asingh32\\appdata\\local\\packages\\pythonsoftwarefoundation.python.3.11_qbz5n2kfra8p0\\localcache\\local-packages\\python311\\site-packages (from SQLAlchemy<2.0.36,>=1.4->langchain-community<0.4.0,>=0.3.0->langchain-experimental) (3.1.1)\n",
      "Requirement already satisfied: anyio in c:\\users\\asingh32\\appdata\\local\\packages\\pythonsoftwarefoundation.python.3.11_qbz5n2kfra8p0\\localcache\\local-packages\\python311\\site-packages (from httpx<1,>=0.23.0->langsmith<0.2.0,>=0.1.125->langchain-community<0.4.0,>=0.3.0->langchain-experimental) (4.6.2.post1)\n",
      "Requirement already satisfied: httpcore==1.* in c:\\users\\asingh32\\appdata\\local\\packages\\pythonsoftwarefoundation.python.3.11_qbz5n2kfra8p0\\localcache\\local-packages\\python311\\site-packages (from httpx<1,>=0.23.0->langsmith<0.2.0,>=0.1.125->langchain-community<0.4.0,>=0.3.0->langchain-experimental) (1.0.7)\n",
      "Requirement already satisfied: sniffio in c:\\users\\asingh32\\appdata\\local\\packages\\pythonsoftwarefoundation.python.3.11_qbz5n2kfra8p0\\localcache\\local-packages\\python311\\site-packages (from httpx<1,>=0.23.0->langsmith<0.2.0,>=0.1.125->langchain-community<0.4.0,>=0.3.0->langchain-experimental) (1.3.1)\n",
      "Requirement already satisfied: h11<0.15,>=0.13 in c:\\users\\asingh32\\appdata\\local\\packages\\pythonsoftwarefoundation.python.3.11_qbz5n2kfra8p0\\localcache\\local-packages\\python311\\site-packages (from httpcore==1.*->httpx<1,>=0.23.0->langsmith<0.2.0,>=0.1.125->langchain-community<0.4.0,>=0.3.0->langchain-experimental) (0.14.0)\n",
      "Requirement already satisfied: mypy-extensions>=0.3.0 in c:\\users\\asingh32\\appdata\\local\\packages\\pythonsoftwarefoundation.python.3.11_qbz5n2kfra8p0\\localcache\\local-packages\\python311\\site-packages (from typing-inspect<1,>=0.4.0->dataclasses-json<0.7,>=0.5.7->langchain-community<0.4.0,>=0.3.0->langchain-experimental) (1.0.0)\n",
      "Downloading langchain_experimental-0.3.3-py3-none-any.whl (208 kB)\n",
      "Installing collected packages: langchain-experimental\n",
      "Successfully installed langchain-experimental-0.3.3\n"
     ]
    }
   ],
   "source": [
    "!pip install langchain-experimental"
   ]
  },
  {
   "cell_type": "code",
   "execution_count": 4,
   "metadata": {
    "application/vnd.databricks.v1+cell": {
     "cellMetadata": {
      "byteLimit": 2048000,
      "rowLimit": 10000
     },
     "inputWidgets": {},
     "nuid": "b1e92756-2a9d-4278-acd1-5944e8e4b70c",
     "showTitle": false,
     "tableResultSettingsMap": {},
     "title": ""
    }
   },
   "outputs": [],
   "source": [
    "from langchain_core.prompts import FewShotPromptTemplate, PromptTemplate\n",
    "from pydantic import BaseModel\n",
    "# from langchain_core.pydantic_v1 import BaseModel\n",
    "from langchain_experimental.tabular_synthetic_data.openai import (\n",
    "    OPENAI_TEMPLATE,\n",
    "    create_openai_data_generator,\n",
    ")\n",
    "from langchain_experimental.tabular_synthetic_data.prompts import (\n",
    "    SYNTHETIC_FEW_SHOT_PREFIX,\n",
    "    SYNTHETIC_FEW_SHOT_SUFFIX,\n",
    ")\n",
    "from langchain_openai import ChatOpenAI"
   ]
  },
  {
   "cell_type": "code",
   "execution_count": 0,
   "metadata": {
    "application/vnd.databricks.v1+cell": {
     "cellMetadata": {
      "byteLimit": 2048000,
      "rowLimit": 10000
     },
     "inputWidgets": {},
     "nuid": "814d8582-0a04-4c5e-bc52-02d758ebbcd5",
     "showTitle": false,
     "tableResultSettingsMap": {},
     "title": ""
    }
   },
   "outputs": [],
   "source": []
  },
  {
   "cell_type": "code",
   "execution_count": 5,
   "metadata": {
    "application/vnd.databricks.v1+cell": {
     "cellMetadata": {
      "byteLimit": 2048000,
      "rowLimit": 10000
     },
     "inputWidgets": {},
     "nuid": "d01cf255-f50f-412d-8a5a-20a17442790e",
     "showTitle": false,
     "tableResultSettingsMap": {},
     "title": ""
    }
   },
   "outputs": [],
   "source": [
    "\n",
    "\n",
    "\n",
    "class TransactionRecord(BaseModel):\n",
    "    transaction_id: str\n",
    "    customer_id: str\n",
    "    transaction_amount: float\n",
    "    transaction_date: str\n",
    "    payment_method: str\n",
    "    product_category: str\n",
    "    quantity: int\n",
    "    customer_age: int\n",
    "    customer_location: str\n",
    "    device_used: str\n",
    "    ip_address: str\n",
    "    shipping_address: str\n",
    "    billing_address: str\n",
    "    is_fraudulent: int\n",
    "    account_age_days: int\n",
    "    transaction_hour: int\n",
    "\n"
   ]
  },
  {
   "cell_type": "code",
   "execution_count": 6,
   "metadata": {
    "application/vnd.databricks.v1+cell": {
     "cellMetadata": {
      "byteLimit": 2048000,
      "rowLimit": 10000
     },
     "inputWidgets": {},
     "nuid": "955858fc-bea5-4064-8b7b-27a1dd97d115",
     "showTitle": false,
     "tableResultSettingsMap": {},
     "title": ""
    }
   },
   "outputs": [],
   "source": [
    "examples = [\n",
    "    { \"example\": \"\"\"transaction_id: 44e09e24-74b9-4041-9894-8734ad525faa, customer_id: 379, transaction_amount: 10.01, transaction_date: 10/01/2024 20:08, payment_method: debit card, product_category: home & garden, quantity: 4, customer_age: 37, customer_location: Christopherland, device_used: desktop, ip_address: 211.189.218.190, shipping_address: 471 Mary Courts Apt. 872\\nMaryhaven, KS 16126, billing_address: 471 Mary Courts Apt. 872\\nMaryhaven, KS 16126, is_fraudulent: 1, account_age_days: 30, transaction_hour: 20\"\"\"},\n",
    "    {\"example\": \"\"\"transaction_id: aa81b9ff-034d-4d8e-bec6-ed29b8ae5d54, customer_id: 19.25, transaction_amount: 11/02/2024 16:54, transaction_date: bank transfer, payment_method: clothing, product_category: 1, quantity: 32, customer_age: Marymouth, customer_location: mobile, device_used: 126.224.150.175, ip_address: 68763 Bryant Points Suite 057\\nGuzmanfort, ME 02932, shipping_address: 139 Lopez Neck\\nCarterview, DE 85571, billing_address: 0, is_fraudulent: 131, account_age_days: 16, transaction_hour: 16\"\"\"},\n",
    "    {\"example\": \"\"\"transaction_id: 7ac1febd-3e94-457e-bfe4-acf081dc8da0, customer_id: 104.07, transaction_amount: 07/01/2024 15:41, transaction_date: PayPal, payment_method: electronics, product_category: 1, quantity: 43, customer_age: Paynefurt, customer_location: tablet, device_used: 195.31.145.184, ip_address: Unit 5864 Box 9572\\nDPO AE 69746, shipping_address: Unit 5864 Box 9572\\nDPO AE 69746, billing_address: 0, is_fraudulent: 53, account_age_days: 15, transaction_hour: 15\"\"\"},\n",
    "]"
   ]
  },
  {
   "cell_type": "code",
   "execution_count": 7,
   "metadata": {
    "application/vnd.databricks.v1+cell": {
     "cellMetadata": {
      "byteLimit": 2048000,
      "rowLimit": 10000
     },
     "inputWidgets": {},
     "nuid": "2924b139-24a2-43ec-ad91-16989413d37c",
     "showTitle": false,
     "tableResultSettingsMap": {},
     "title": ""
    }
   },
   "outputs": [],
   "source": [
    "OPENAI_TEMPLATE = PromptTemplate(input_variables=[\"example\"], template=\"{example}\")\n",
    "\n",
    "prompt_template = FewShotPromptTemplate(\n",
    "    prefix=SYNTHETIC_FEW_SHOT_PREFIX,\n",
    "    examples=examples,\n",
    "    suffix=SYNTHETIC_FEW_SHOT_SUFFIX,\n",
    "    input_variables=[\"subject\", \"extra\"],\n",
    "    example_prompt=OPENAI_TEMPLATE,\n",
    ")"
   ]
  },
  {
   "cell_type": "code",
   "execution_count": 0,
   "metadata": {
    "application/vnd.databricks.v1+cell": {
     "cellMetadata": {
      "byteLimit": 2048000,
      "rowLimit": 10000
     },
     "inputWidgets": {},
     "nuid": "67ef769a-4339-46fa-a228-9789792713b7",
     "showTitle": false,
     "tableResultSettingsMap": {},
     "title": ""
    }
   },
   "outputs": [],
   "source": [
    "# %pip install --upgrade pydantic\n",
    "# %pip install langchain openai pydantic\n",
    "\n"
   ]
  },
  {
   "cell_type": "code",
   "execution_count": 8,
   "metadata": {
    "application/vnd.databricks.v1+cell": {
     "cellMetadata": {
      "byteLimit": 2048000,
      "rowLimit": 10000
     },
     "inputWidgets": {},
     "nuid": "54efe974-86d4-4906-b850-f80bc02695c3",
     "showTitle": false,
     "tableResultSettingsMap": {},
     "title": ""
    }
   },
   "outputs": [],
   "source": [
    "from langchain_openai import AzureChatOpenAI\n",
    "model = AzureChatOpenAI(\n",
    "    azure_endpoint=\"https://detraining-openai-wus.openai.azure.com/\",\n",
    "    azure_deployment=\"gpt-4\",\n",
    "    openai_api_version=\"2024-06-01\",\n",
    "    openai_api_key = \"588ba39d16cc4c2db76a9f4cd63bcd28\",\n",
    ")"
   ]
  },
  {
   "cell_type": "code",
   "execution_count": 0,
   "metadata": {
    "application/vnd.databricks.v1+cell": {
     "cellMetadata": {
      "byteLimit": 2048000,
      "rowLimit": 10000
     },
     "inputWidgets": {},
     "nuid": "e1c88587-d0a7-423c-813e-e5be1e8d983e",
     "showTitle": false,
     "tableResultSettingsMap": {},
     "title": ""
    }
   },
   "outputs": [
    {
     "name": "stdout",
     "output_type": "stream",
     "text": [
      "Requirement already satisfied: pydantic==2.9.2 in /local_disk0/.ephemeral_nfs/envs/pythonEnv-2c6e9b81-4a13-4c5f-86c8-436fd702ec81/lib/python3.9/site-packages (2.9.2)\r\n",
      "Requirement already satisfied: annotated-types>=0.6.0 in /local_disk0/.ephemeral_nfs/envs/pythonEnv-2c6e9b81-4a13-4c5f-86c8-436fd702ec81/lib/python3.9/site-packages (from pydantic==2.9.2) (0.7.0)\r\n",
      "Requirement already satisfied: pydantic-core==2.23.4 in /local_disk0/.ephemeral_nfs/envs/pythonEnv-2c6e9b81-4a13-4c5f-86c8-436fd702ec81/lib/python3.9/site-packages (from pydantic==2.9.2) (2.23.4)\r\n",
      "Requirement already satisfied: typing-extensions>=4.6.1 in /local_disk0/.ephemeral_nfs/envs/pythonEnv-2c6e9b81-4a13-4c5f-86c8-436fd702ec81/lib/python3.9/site-packages (from pydantic==2.9.2) (4.12.2)\r\n"
     ]
    }
   ],
   "source": [
    "#!pip install pydantic==2.9.2"
   ]
  },
  {
   "cell_type": "code",
   "execution_count": 0,
   "metadata": {
    "application/vnd.databricks.v1+cell": {
     "cellMetadata": {
      "byteLimit": 2048000,
      "rowLimit": 10000
     },
     "inputWidgets": {},
     "nuid": "316217d5-da90-4b4f-ae67-96b1b6618401",
     "showTitle": false,
     "tableResultSettingsMap": {},
     "title": ""
    }
   },
   "outputs": [
    {
     "name": "stdout",
     "output_type": "stream",
     "text": [
      "Out[75]: <function pydantic.main.BaseModel.json(self, *, include: 'IncEx | None' = None, exclude: 'IncEx | None' = None, by_alias: 'bool' = False, exclude_unset: 'bool' = False, exclude_defaults: 'bool' = False, exclude_none: 'bool' = False, encoder: 'Callable[[Any], Any] | None' = PydanticUndefined, models_as_dict: 'bool' = PydanticUndefined, **dumps_kwargs: 'Any') -> 'str'>"
     ]
    }
   ],
   "source": [
    "#TransactionRecord.json"
   ]
  },
  {
   "cell_type": "code",
   "execution_count": 15,
   "metadata": {
    "application/vnd.databricks.v1+cell": {
     "cellMetadata": {
      "byteLimit": 2048000,
      "rowLimit": 10000
     },
     "inputWidgets": {},
     "nuid": "d93bf402-8570-4031-b30b-5a4edcab152f",
     "showTitle": false,
     "tableResultSettingsMap": {},
     "title": ""
    }
   },
   "outputs": [],
   "source": [
    "synthetic_data_generator = create_openai_data_generator(\n",
    "    output_schema=TransactionRecord.model_json_schema(),\n",
    "    llm=model, \n",
    "    prompt=prompt_template,\n",
    ")"
   ]
  },
  {
   "cell_type": "code",
   "execution_count": 16,
   "metadata": {
    "application/vnd.databricks.v1+cell": {
     "cellMetadata": {
      "byteLimit": 2048000,
      "rowLimit": 10000
     },
     "inputWidgets": {},
     "nuid": "d4724497-6394-4239-9c77-c46708ed1e50",
     "showTitle": false,
     "tableResultSettingsMap": {},
     "title": ""
    }
   },
   "outputs": [],
   "source": [
    "synthetic_results = synthetic_data_generator.generate(\n",
    "    subject=\"TransactionRecord\",\n",
    "    extra=\"Include details typical of fraudulent e-commerce transactions, such as unusually large transaction amounts or suspicious IP addresses\",\n",
    "    runs=15,\n",
    ")"
   ]
  },
  {
   "cell_type": "code",
   "execution_count": 17,
   "metadata": {},
   "outputs": [
    {
     "data": {
      "text/plain": [
       "[{'transaction_id': 'TX9998887771',\n",
       "  'customer_id': 'CUST54321',\n",
       "  'transaction_amount': 4999.99,\n",
       "  'transaction_date': '2023-03-15',\n",
       "  'payment_method': 'Credit Card',\n",
       "  'product_category': 'Electronics',\n",
       "  'quantity': 5,\n",
       "  'customer_age': 23,\n",
       "  'customer_location': 'New York, NY',\n",
       "  'device_used': 'Desktop',\n",
       "  'ip_address': '192.168.1.10',\n",
       "  'shipping_address': '123 Fake St., New York, NY, 10001',\n",
       "  'billing_address': '456 Real Ave., Los Angeles, CA, 90001',\n",
       "  'is_fraudulent': 1,\n",
       "  'account_age_days': 2,\n",
       "  'transaction_hour': 2},\n",
       " {'transaction_id': 'TX7776665554',\n",
       "  'customer_id': 'CUST67890',\n",
       "  'transaction_amount': 7350.0,\n",
       "  'transaction_date': '2023-03-22',\n",
       "  'payment_method': 'Credit Card',\n",
       "  'product_category': 'Luxury Goods',\n",
       "  'quantity': 3,\n",
       "  'customer_age': 27,\n",
       "  'customer_location': 'Miami, FL',\n",
       "  'device_used': 'Mobile',\n",
       "  'ip_address': '203.0.113.1',\n",
       "  'shipping_address': '789 Ocean Drive, Miami, FL, 33139',\n",
       "  'billing_address': '1010 Sunset Blvd., Beverly Hills, CA, 90210',\n",
       "  'is_fraudulent': 1,\n",
       "  'account_age_days': 5,\n",
       "  'transaction_hour': 23},\n",
       " {'transaction_id': 'TX1122334455',\n",
       "  'customer_id': 'CUST11223',\n",
       "  'transaction_amount': 12500.0,\n",
       "  'transaction_date': '2023-04-01',\n",
       "  'payment_method': 'Credit Card',\n",
       "  'product_category': 'Jewelry',\n",
       "  'quantity': 2,\n",
       "  'customer_age': 34,\n",
       "  'customer_location': 'Las Vegas, NV',\n",
       "  'device_used': 'Mobile',\n",
       "  'ip_address': '198.51.100.0',\n",
       "  'shipping_address': '321 Rich Ln., Las Vegas, NV, 89109',\n",
       "  'billing_address': '123 Wealth Rd., Palo Alto, CA, 94301',\n",
       "  'is_fraudulent': 1,\n",
       "  'account_age_days': 1,\n",
       "  'transaction_hour': 4},\n",
       " {'transaction_id': 'TX4847261593',\n",
       "  'customer_id': 'CUST83746',\n",
       "  'transaction_amount': 8900.0,\n",
       "  'transaction_date': '2023-04-10',\n",
       "  'payment_method': 'Credit Card',\n",
       "  'product_category': 'Jewelry',\n",
       "  'quantity': 1,\n",
       "  'customer_age': 29,\n",
       "  'customer_location': 'Chicago, IL',\n",
       "  'device_used': 'Desktop',\n",
       "  'ip_address': '10.0.0.1',\n",
       "  'shipping_address': '400 Wealthy Ave., Chicago, IL, 60654',\n",
       "  'billing_address': '1000 Money St., Malibu, CA, 90265',\n",
       "  'is_fraudulent': 1,\n",
       "  'account_age_days': 3,\n",
       "  'transaction_hour': 1},\n",
       " {'transaction_id': 'TX9988776655',\n",
       "  'customer_id': 'CUST543210',\n",
       "  'transaction_amount': 15000.0,\n",
       "  'transaction_date': '2023-04-15',\n",
       "  'payment_method': 'Credit Card',\n",
       "  'product_category': 'Electronics',\n",
       "  'quantity': 5,\n",
       "  'customer_age': 23,\n",
       "  'customer_location': 'New York, NY',\n",
       "  'device_used': 'Mobile',\n",
       "  'ip_address': '192.0.2.255',\n",
       "  'shipping_address': '5 Technology Way, New York, NY, 10001',\n",
       "  'billing_address': '55 Broad St., Los Angeles, CA, 90001',\n",
       "  'is_fraudulent': 1,\n",
       "  'account_age_days': 2,\n",
       "  'transaction_hour': 2},\n",
       " {'transaction_id': 'TX2277889966',\n",
       "  'customer_id': 'CUST90210',\n",
       "  'transaction_amount': 20000.0,\n",
       "  'transaction_date': '2023-04-18',\n",
       "  'payment_method': 'Credit Card',\n",
       "  'product_category': 'Luxury Goods',\n",
       "  'quantity': 3,\n",
       "  'customer_age': 21,\n",
       "  'customer_location': 'Miami, FL',\n",
       "  'device_used': 'Desktop',\n",
       "  'ip_address': '203.0.113.10',\n",
       "  'shipping_address': '789 Ocean Drive, Miami, FL, 33139',\n",
       "  'billing_address': '321 Elite St., Beverly Hills, CA, 90210',\n",
       "  'is_fraudulent': 1,\n",
       "  'account_age_days': 0,\n",
       "  'transaction_hour': 3},\n",
       " {'transaction_id': 'TX1122334455',\n",
       "  'customer_id': 'CUST678901',\n",
       "  'transaction_amount': 12500.0,\n",
       "  'transaction_date': '2023-04-22',\n",
       "  'payment_method': 'Credit Card',\n",
       "  'product_category': 'Luxury Watches',\n",
       "  'quantity': 2,\n",
       "  'customer_age': 27,\n",
       "  'customer_location': 'Los Angeles, CA',\n",
       "  'device_used': 'Mobile',\n",
       "  'ip_address': '198.51.100.1',\n",
       "  'shipping_address': '101 Rodeo Drive, Los Angeles, CA, 90210',\n",
       "  'billing_address': '404 Not Found Ave., Las Vegas, NV, 89109',\n",
       "  'is_fraudulent': 1,\n",
       "  'account_age_days': 1,\n",
       "  'transaction_hour': 4},\n",
       " {'transaction_id': 'TX5566778899',\n",
       "  'customer_id': 'CUST314159',\n",
       "  'transaction_amount': 30000.0,\n",
       "  'transaction_date': '2023-04-20',\n",
       "  'payment_method': 'Credit Card',\n",
       "  'product_category': 'High-end Electronics',\n",
       "  'quantity': 10,\n",
       "  'customer_age': 19,\n",
       "  'customer_location': 'Chicago, IL',\n",
       "  'device_used': 'Desktop',\n",
       "  'ip_address': '203.0.113.99',\n",
       "  'shipping_address': '123 Tech Avenue, Chicago, IL, 60601',\n",
       "  'billing_address': '321 Windy Lane, Seattle, WA, 98101',\n",
       "  'is_fraudulent': 1,\n",
       "  'account_age_days': 5,\n",
       "  'transaction_hour': 23},\n",
       " {'transaction_id': 'TX9988776655',\n",
       "  'customer_id': 'CUST987654',\n",
       "  'transaction_amount': 45000.0,\n",
       "  'transaction_date': '2023-04-21',\n",
       "  'payment_method': 'Credit Card',\n",
       "  'product_category': 'High-end Electronics',\n",
       "  'quantity': 5,\n",
       "  'customer_age': 24,\n",
       "  'customer_location': 'New York, NY',\n",
       "  'device_used': 'Mobile',\n",
       "  'ip_address': '192.0.2.128',\n",
       "  'shipping_address': '50 Broadway St., New York, NY, 10004',\n",
       "  'billing_address': '123 Fake St., Las Vegas, NV, 89119',\n",
       "  'is_fraudulent': 1,\n",
       "  'account_age_days': 0,\n",
       "  'transaction_hour': 2},\n",
       " {'transaction_id': 'TX1010102020',\n",
       "  'customer_id': 'CUST4040404',\n",
       "  'transaction_amount': 78500.0,\n",
       "  'transaction_date': '2023-04-25',\n",
       "  'payment_method': 'Credit Card',\n",
       "  'product_category': 'Jewelry',\n",
       "  'quantity': 15,\n",
       "  'customer_age': 23,\n",
       "  'customer_location': 'Miami, FL',\n",
       "  'device_used': 'Mobile',\n",
       "  'ip_address': '169.254.169.254',\n",
       "  'shipping_address': '123 Ocean Drive, Miami, FL, 33139',\n",
       "  'billing_address': '789 Scam Ave., Houston, TX, 77002',\n",
       "  'is_fraudulent': 1,\n",
       "  'account_age_days': 3,\n",
       "  'transaction_hour': 3},\n",
       " {'transaction_id': 'TX8822110011',\n",
       "  'customer_id': 'CUST5566778',\n",
       "  'transaction_amount': 63000.0,\n",
       "  'transaction_date': '2023-04-22',\n",
       "  'payment_method': 'Credit Card',\n",
       "  'product_category': 'Luxury Watches',\n",
       "  'quantity': 20,\n",
       "  'customer_age': 21,\n",
       "  'customer_location': 'Los Angeles, CA',\n",
       "  'device_used': 'Laptop',\n",
       "  'ip_address': '198.51.100.0',\n",
       "  'shipping_address': '456 Star Street, Los Angeles, CA, 90001',\n",
       "  'billing_address': '852 Money Road, Beverly Hills, CA, 90210',\n",
       "  'is_fraudulent': 1,\n",
       "  'account_age_days': 1,\n",
       "  'transaction_hour': 4},\n",
       " {'transaction_id': 'TX1122334455',\n",
       "  'customer_id': 'CUST333444',\n",
       "  'transaction_amount': 95000.0,\n",
       "  'transaction_date': '2023-04-20',\n",
       "  'payment_method': 'Credit Card',\n",
       "  'product_category': 'Luxury Items',\n",
       "  'quantity': 10,\n",
       "  'customer_age': 29,\n",
       "  'customer_location': 'Chicago, IL',\n",
       "  'device_used': 'Mobile',\n",
       "  'ip_address': '203.0.113.5',\n",
       "  'shipping_address': '900 Wealthy Ave, Chicago, IL, 60610',\n",
       "  'billing_address': '123 Rich St., New York, NY, 10001',\n",
       "  'is_fraudulent': 1,\n",
       "  'account_age_days': 2,\n",
       "  'transaction_hour': 23},\n",
       " {'transaction_id': 'TX9998887776',\n",
       "  'customer_id': 'CUST9876543',\n",
       "  'transaction_amount': 125000.0,\n",
       "  'transaction_date': '2023-04-18',\n",
       "  'payment_method': 'Credit Card',\n",
       "  'product_category': 'Electronics',\n",
       "  'quantity': 50,\n",
       "  'customer_age': 25,\n",
       "  'customer_location': 'New York, NY',\n",
       "  'device_used': 'Desktop',\n",
       "  'ip_address': '192.0.2.0',\n",
       "  'shipping_address': '200 Tech Drive, New York, NY, 10010',\n",
       "  'billing_address': '400 Fraud Blvd, Las Vegas, NV, 89101',\n",
       "  'is_fraudulent': 1,\n",
       "  'account_age_days': 0,\n",
       "  'transaction_hour': 2},\n",
       " {'transaction_id': 'TX1234567890',\n",
       "  'customer_id': 'CUST11223344',\n",
       "  'transaction_amount': 78000.0,\n",
       "  'transaction_date': '2023-04-21',\n",
       "  'payment_method': 'Credit Card',\n",
       "  'product_category': 'Jewelry',\n",
       "  'quantity': 15,\n",
       "  'customer_age': 24,\n",
       "  'customer_location': 'Miami, FL',\n",
       "  'device_used': 'Tablet',\n",
       "  'ip_address': '203.0.113.10',\n",
       "  'shipping_address': '321 Opulent Rd, Miami, FL, 33101',\n",
       "  'billing_address': '789 Moneybag Ln, Palo Alto, CA, 94301',\n",
       "  'is_fraudulent': 1,\n",
       "  'account_age_days': 5,\n",
       "  'transaction_hour': 1},\n",
       " {'transaction_id': 'TX9988776655',\n",
       "  'customer_id': 'CUST44556677',\n",
       "  'transaction_amount': 200000.0,\n",
       "  'transaction_date': '2023-04-19',\n",
       "  'payment_method': 'Credit Card',\n",
       "  'product_category': 'Luxury Watches',\n",
       "  'quantity': 20,\n",
       "  'customer_age': 31,\n",
       "  'customer_location': 'Los Angeles, CA',\n",
       "  'device_used': 'Laptop',\n",
       "  'ip_address': '198.51.100.0',\n",
       "  'shipping_address': '1010 Expensive Blvd, Beverly Hills, CA, 90210',\n",
       "  'billing_address': '404 Scam Ave, Houston, TX, 77005',\n",
       "  'is_fraudulent': 1,\n",
       "  'account_age_days': 1,\n",
       "  'transaction_hour': 4}]"
      ]
     },
     "execution_count": 17,
     "metadata": {},
     "output_type": "execute_result"
    }
   ],
   "source": [
    "synthetic_results"
   ]
  },
  {
   "cell_type": "code",
   "execution_count": 19,
   "metadata": {
    "application/vnd.databricks.v1+cell": {
     "cellMetadata": {
      "byteLimit": 2048000,
      "rowLimit": 10000
     },
     "inputWidgets": {},
     "nuid": "c67afa59-99c0-4876-ac5c-93e3989575bb",
     "showTitle": false,
     "tableResultSettingsMap": {},
     "title": ""
    }
   },
   "outputs": [
    {
     "name": "stdout",
     "output_type": "stream",
     "text": [
      "   transaction_id   customer_id  transaction_amount transaction_date  \\\n",
      "0    TX9998887771     CUST54321             4999.99       2023-03-15   \n",
      "1    TX7776665554     CUST67890             7350.00       2023-03-22   \n",
      "2    TX1122334455     CUST11223            12500.00       2023-04-01   \n",
      "3    TX4847261593     CUST83746             8900.00       2023-04-10   \n",
      "4    TX9988776655    CUST543210            15000.00       2023-04-15   \n",
      "5    TX2277889966     CUST90210            20000.00       2023-04-18   \n",
      "6    TX1122334455    CUST678901            12500.00       2023-04-22   \n",
      "7    TX5566778899    CUST314159            30000.00       2023-04-20   \n",
      "8    TX9988776655    CUST987654            45000.00       2023-04-21   \n",
      "9    TX1010102020   CUST4040404            78500.00       2023-04-25   \n",
      "10   TX8822110011   CUST5566778            63000.00       2023-04-22   \n",
      "11   TX1122334455    CUST333444            95000.00       2023-04-20   \n",
      "12   TX9998887776   CUST9876543           125000.00       2023-04-18   \n",
      "13   TX1234567890  CUST11223344            78000.00       2023-04-21   \n",
      "14   TX9988776655  CUST44556677           200000.00       2023-04-19   \n",
      "\n",
      "   payment_method      product_category  quantity  customer_age  \\\n",
      "0     Credit Card           Electronics         5            23   \n",
      "1     Credit Card          Luxury Goods         3            27   \n",
      "2     Credit Card               Jewelry         2            34   \n",
      "3     Credit Card               Jewelry         1            29   \n",
      "4     Credit Card           Electronics         5            23   \n",
      "5     Credit Card          Luxury Goods         3            21   \n",
      "6     Credit Card        Luxury Watches         2            27   \n",
      "7     Credit Card  High-end Electronics        10            19   \n",
      "8     Credit Card  High-end Electronics         5            24   \n",
      "9     Credit Card               Jewelry        15            23   \n",
      "10    Credit Card        Luxury Watches        20            21   \n",
      "11    Credit Card          Luxury Items        10            29   \n",
      "12    Credit Card           Electronics        50            25   \n",
      "13    Credit Card               Jewelry        15            24   \n",
      "14    Credit Card        Luxury Watches        20            31   \n",
      "\n",
      "   customer_location device_used       ip_address  \\\n",
      "0       New York, NY     Desktop     192.168.1.10   \n",
      "1          Miami, FL      Mobile      203.0.113.1   \n",
      "2      Las Vegas, NV      Mobile     198.51.100.0   \n",
      "3        Chicago, IL     Desktop         10.0.0.1   \n",
      "4       New York, NY      Mobile      192.0.2.255   \n",
      "5          Miami, FL     Desktop     203.0.113.10   \n",
      "6    Los Angeles, CA      Mobile     198.51.100.1   \n",
      "7        Chicago, IL     Desktop     203.0.113.99   \n",
      "8       New York, NY      Mobile      192.0.2.128   \n",
      "9          Miami, FL      Mobile  169.254.169.254   \n",
      "10   Los Angeles, CA      Laptop     198.51.100.0   \n",
      "11       Chicago, IL      Mobile      203.0.113.5   \n",
      "12      New York, NY     Desktop        192.0.2.0   \n",
      "13         Miami, FL      Tablet     203.0.113.10   \n",
      "14   Los Angeles, CA      Laptop     198.51.100.0   \n",
      "\n",
      "                                 shipping_address  \\\n",
      "0               123 Fake St., New York, NY, 10001   \n",
      "1               789 Ocean Drive, Miami, FL, 33139   \n",
      "2              321 Rich Ln., Las Vegas, NV, 89109   \n",
      "3            400 Wealthy Ave., Chicago, IL, 60654   \n",
      "4           5 Technology Way, New York, NY, 10001   \n",
      "5               789 Ocean Drive, Miami, FL, 33139   \n",
      "6         101 Rodeo Drive, Los Angeles, CA, 90210   \n",
      "7             123 Tech Avenue, Chicago, IL, 60601   \n",
      "8            50 Broadway St., New York, NY, 10004   \n",
      "9               123 Ocean Drive, Miami, FL, 33139   \n",
      "10        456 Star Street, Los Angeles, CA, 90001   \n",
      "11            900 Wealthy Ave, Chicago, IL, 60610   \n",
      "12            200 Tech Drive, New York, NY, 10010   \n",
      "13               321 Opulent Rd, Miami, FL, 33101   \n",
      "14  1010 Expensive Blvd, Beverly Hills, CA, 90210   \n",
      "\n",
      "                                billing_address  is_fraudulent  \\\n",
      "0         456 Real Ave., Los Angeles, CA, 90001              1   \n",
      "1   1010 Sunset Blvd., Beverly Hills, CA, 90210              1   \n",
      "2          123 Wealth Rd., Palo Alto, CA, 94301              1   \n",
      "3             1000 Money St., Malibu, CA, 90265              1   \n",
      "4          55 Broad St., Los Angeles, CA, 90001              1   \n",
      "5       321 Elite St., Beverly Hills, CA, 90210              1   \n",
      "6      404 Not Found Ave., Las Vegas, NV, 89109              1   \n",
      "7            321 Windy Lane, Seattle, WA, 98101              1   \n",
      "8            123 Fake St., Las Vegas, NV, 89119              1   \n",
      "9             789 Scam Ave., Houston, TX, 77002              1   \n",
      "10     852 Money Road, Beverly Hills, CA, 90210              1   \n",
      "11            123 Rich St., New York, NY, 10001              1   \n",
      "12         400 Fraud Blvd, Las Vegas, NV, 89101              1   \n",
      "13        789 Moneybag Ln, Palo Alto, CA, 94301              1   \n",
      "14             404 Scam Ave, Houston, TX, 77005              1   \n",
      "\n",
      "    account_age_days  transaction_hour  \n",
      "0                  2                 2  \n",
      "1                  5                23  \n",
      "2                  1                 4  \n",
      "3                  3                 1  \n",
      "4                  2                 2  \n",
      "5                  0                 3  \n",
      "6                  1                 4  \n",
      "7                  5                23  \n",
      "8                  0                 2  \n",
      "9                  3                 3  \n",
      "10                 1                 4  \n",
      "11                 2                23  \n",
      "12                 0                 2  \n",
      "13                 5                 1  \n",
      "14                 1                 4  \n"
     ]
    }
   ],
   "source": [
    "import pandas as pd\n",
    "\n",
    "# Convert synthetic_results (a list of TransactionRecord objects) to a DataFrame\n",
    "data = [dict(record) for record in synthetic_results]\n",
    "df = pd.DataFrame(data)\n",
    "\n",
    "# Display the DataFrame\n",
    "print(df)"
   ]
  },
  {
   "cell_type": "code",
   "execution_count": 21,
   "metadata": {},
   "outputs": [
    {
     "name": "stdout",
     "output_type": "stream",
     "text": [
      "   transaction_id   customer_id  transaction_amount transaction_date payment_method      product_category  quantity  customer_age customer_location device_used       ip_address                               shipping_address                              billing_address  is_fraudulent  account_age_days  transaction_hour\n",
      "0    TX9998887771     CUST54321             4999.99       2023-03-15    Credit Card           Electronics         5            23      New York, NY     Desktop     192.168.1.10              123 Fake St., New York, NY, 10001        456 Real Ave., Los Angeles, CA, 90001              1                 2                 2\n",
      "1    TX7776665554     CUST67890             7350.00       2023-03-22    Credit Card          Luxury Goods         3            27         Miami, FL      Mobile      203.0.113.1              789 Ocean Drive, Miami, FL, 33139  1010 Sunset Blvd., Beverly Hills, CA, 90210              1                 5                23\n",
      "2    TX1122334455     CUST11223            12500.00       2023-04-01    Credit Card               Jewelry         2            34     Las Vegas, NV      Mobile     198.51.100.0             321 Rich Ln., Las Vegas, NV, 89109         123 Wealth Rd., Palo Alto, CA, 94301              1                 1                 4\n",
      "3    TX4847261593     CUST83746             8900.00       2023-04-10    Credit Card               Jewelry         1            29       Chicago, IL     Desktop         10.0.0.1           400 Wealthy Ave., Chicago, IL, 60654            1000 Money St., Malibu, CA, 90265              1                 3                 1\n",
      "4    TX9988776655    CUST543210            15000.00       2023-04-15    Credit Card           Electronics         5            23      New York, NY      Mobile      192.0.2.255          5 Technology Way, New York, NY, 10001         55 Broad St., Los Angeles, CA, 90001              1                 2                 2\n",
      "5    TX2277889966     CUST90210            20000.00       2023-04-18    Credit Card          Luxury Goods         3            21         Miami, FL     Desktop     203.0.113.10              789 Ocean Drive, Miami, FL, 33139      321 Elite St., Beverly Hills, CA, 90210              1                 0                 3\n",
      "6    TX1122334455    CUST678901            12500.00       2023-04-22    Credit Card        Luxury Watches         2            27   Los Angeles, CA      Mobile     198.51.100.1        101 Rodeo Drive, Los Angeles, CA, 90210     404 Not Found Ave., Las Vegas, NV, 89109              1                 1                 4\n",
      "7    TX5566778899    CUST314159            30000.00       2023-04-20    Credit Card  High-end Electronics        10            19       Chicago, IL     Desktop     203.0.113.99            123 Tech Avenue, Chicago, IL, 60601           321 Windy Lane, Seattle, WA, 98101              1                 5                23\n",
      "8    TX9988776655    CUST987654            45000.00       2023-04-21    Credit Card  High-end Electronics         5            24      New York, NY      Mobile      192.0.2.128           50 Broadway St., New York, NY, 10004           123 Fake St., Las Vegas, NV, 89119              1                 0                 2\n",
      "9    TX1010102020   CUST4040404            78500.00       2023-04-25    Credit Card               Jewelry        15            23         Miami, FL      Mobile  169.254.169.254              123 Ocean Drive, Miami, FL, 33139            789 Scam Ave., Houston, TX, 77002              1                 3                 3\n",
      "10   TX8822110011   CUST5566778            63000.00       2023-04-22    Credit Card        Luxury Watches        20            21   Los Angeles, CA      Laptop     198.51.100.0        456 Star Street, Los Angeles, CA, 90001     852 Money Road, Beverly Hills, CA, 90210              1                 1                 4\n",
      "11   TX1122334455    CUST333444            95000.00       2023-04-20    Credit Card          Luxury Items        10            29       Chicago, IL      Mobile      203.0.113.5            900 Wealthy Ave, Chicago, IL, 60610            123 Rich St., New York, NY, 10001              1                 2                23\n",
      "12   TX9998887776   CUST9876543           125000.00       2023-04-18    Credit Card           Electronics        50            25      New York, NY     Desktop        192.0.2.0            200 Tech Drive, New York, NY, 10010         400 Fraud Blvd, Las Vegas, NV, 89101              1                 0                 2\n",
      "13   TX1234567890  CUST11223344            78000.00       2023-04-21    Credit Card               Jewelry        15            24         Miami, FL      Tablet     203.0.113.10               321 Opulent Rd, Miami, FL, 33101        789 Moneybag Ln, Palo Alto, CA, 94301              1                 5                 1\n",
      "14   TX9988776655  CUST44556677           200000.00       2023-04-19    Credit Card        Luxury Watches        20            31   Los Angeles, CA      Laptop     198.51.100.0  1010 Expensive Blvd, Beverly Hills, CA, 90210             404 Scam Ave, Houston, TX, 77005              1                 1                 4\n"
     ]
    }
   ],
   "source": [
    "import pandas as pd\n",
    "\n",
    "# Adjust display settings\n",
    "pd.set_option('display.max_columns', None)  # Show all columns\n",
    "pd.set_option('display.expand_frame_repr', False)  # Prevent line breaks in the DataFrame display\n",
    "pd.set_option('display.width', 1000)  # Set the display width to accommodate all columns\n",
    "\n",
    "# Convert synthetic_results (a list of TransactionRecord objects) to a DataFrame\n",
    "data = [dict(record) for record in synthetic_results]\n",
    "df = pd.DataFrame(data)\n",
    "\n",
    "# Display the DataFrame\n",
    "print(df)"
   ]
  },
  {
   "cell_type": "code",
   "execution_count": 22,
   "metadata": {},
   "outputs": [
    {
     "name": "stdout",
     "output_type": "stream",
     "text": [
      "DataFrame saved to 'Table1.csv'\n"
     ]
    }
   ],
   "source": [
    "# Save the DataFrame to an Excel file\n",
    "df.to_csv('Table1.csv', index=False)  # `index=False` verifys the index is not written to the file\n",
    "print(\"DataFrame saved to 'Table1.csv'\")"
   ]
  }
 ],
 "metadata": {
  "application/vnd.databricks.v1+notebook": {
   "dashboards": [],
   "environmentMetadata": null,
   "language": "python",
   "notebookMetadata": {
    "pythonIndentUnit": 4
   },
   "notebookName": "stress-test data",
   "widgets": {}
  },
  "kernelspec": {
   "display_name": "python312",
   "language": "python",
   "name": "python3"
  },
  "language_info": {
   "codemirror_mode": {
    "name": "ipython",
    "version": 3
   },
   "file_extension": ".py",
   "mimetype": "text/x-python",
   "name": "python",
   "nbconvert_exporter": "python",
   "pygments_lexer": "ipython3",
   "version": "3.12.8"
  }
 },
 "nbformat": 4,
 "nbformat_minor": 0
}
