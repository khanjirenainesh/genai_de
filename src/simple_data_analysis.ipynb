{
 "cells": [
  {
   "cell_type": "code",
   "execution_count": 1,
   "metadata": {},
   "outputs": [
    {
     "data": {
      "text/plain": [
       "True"
      ]
     },
     "execution_count": 1,
     "metadata": {},
     "output_type": "execute_result"
    }
   ],
   "source": [
    "from langchain_openai import AzureChatOpenAI\n",
    "import snowflake.connector\n",
    "import pandas as pd\n",
    "from dotenv import load_dotenv\n",
    "import os\n",
    "import time\n",
    "from datetime import datetime\n",
    "from sqlalchemy import create_engine\n",
    "import json\n",
    "from io import StringIO\n",
    "import warnings\n",
    "warnings.filterwarnings(\"ignore\")\n",
    "load_dotenv(override=True)"
   ]
  },
  {
   "cell_type": "code",
   "execution_count": 3,
   "metadata": {},
   "outputs": [
    {
     "name": "stdout",
     "output_type": "stream",
     "text": [
      "Environment variables loaded successfully\n"
     ]
    }
   ],
   "source": [
    "required_vars = {\n",
    "    \"AZURE_OPENAI_ENDPOINT\": os.environ.get(\"AZURE_OPENAI_ENDPOINT\"),\n",
    "    \"AZURE_OPENAI_4o_DEPLOYMENT_NAME\": os.environ.get(\"AZURE_OPENAI_4o_DEPLOYMENT_NAME\"),\n",
    "    \"AZURE_OPENAI_API_VERSION\": os.environ.get(\"AZURE_OPENAI_API_VERSION\"),\n",
    "    \"AZURE_OPENAI_API_KEY\": os.environ.get(\"AZURE_OPENAI_API_KEY\"),\n",
    "    \"SNOWFLAKE_USER\": os.environ.get(\"SNOWFLAKE_USER\"),\n",
    "    \"SNOWFLAKE_PASSWORD\": os.environ.get(\"SNOWFLAKE_PASSWORD\"),\n",
    "    \"SNOWFLAKE_ACCOUNT\": os.environ.get(\"SNOWFLAKE_ACCOUNT\"),\n",
    "    \"SNOWFLAKE_WAREHOUSE\": os.environ.get(\"SNOWFLAKE_WAREHOUSE\"),\n",
    "    \"SNOWFLAKE_DATABASE\": os.environ.get(\"SNOWFLAKE_DATABASE\"),\n",
    "    \"SNOWFLAKE_SCHEMA\": os.environ.get(\"SNOWFLAKE_SCHEMA\")\n",
    "}\n",
    "\n",
    "missing_vars = [key for key, value in required_vars.items() if value is None]\n",
    "if missing_vars:\n",
    "    raise ValueError(f\"Missing required environment variables: {', '.join(missing_vars)}\")\n",
    "print(\"Environment variables loaded successfully\")"
   ]
  },
  {
   "cell_type": "code",
   "execution_count": 4,
   "metadata": {},
   "outputs": [
    {
     "name": "stdout",
     "output_type": "stream",
     "text": [
      "Connected to Snowflake\n"
     ]
    }
   ],
   "source": [
    "connection_string = (\n",
    "    f\"snowflake://{required_vars['SNOWFLAKE_USER']}:\"\n",
    "    f\"{required_vars['SNOWFLAKE_PASSWORD']}@\"\n",
    "    f\"{required_vars['SNOWFLAKE_ACCOUNT']}/\"\n",
    "    f\"{required_vars['SNOWFLAKE_DATABASE']}/\"\n",
    "    f\"{required_vars['SNOWFLAKE_SCHEMA']}?warehouse=\"\n",
    "    f\"{required_vars['SNOWFLAKE_WAREHOUSE']}\"\n",
    ")\n",
    "\n",
    "engine = create_engine(connection_string)\n",
    "print(\"Connected to Snowflake\")"
   ]
  },
  {
   "cell_type": "code",
   "execution_count": 8,
   "metadata": {},
   "outputs": [
    {
     "name": "stdout",
     "output_type": "stream",
     "text": [
      "\n",
      "Available tables: ['SALES_DATA' 'PATIENT_ADMISSIONS' 'ADDRESSES']\n"
     ]
    }
   ],
   "source": [
    "query = f\"\"\"\n",
    "    SELECT \n",
    "        c.TABLE_NAME, c.COLUMN_NAME, c.DATA_TYPE, c.IS_NULLABLE, c.CHARACTER_MAXIMUM_LENGTH\n",
    "    FROM {required_vars['SNOWFLAKE_DATABASE']}.INFORMATION_SCHEMA.COLUMNS c\n",
    "    JOIN {required_vars['SNOWFLAKE_DATABASE']}.INFORMATION_SCHEMA.TABLES t \n",
    "        ON c.TABLE_NAME = t.TABLE_NAME\n",
    "    WHERE t.TABLE_TYPE = 'BASE TABLE' \n",
    "    AND c.TABLE_SCHEMA = '{required_vars['SNOWFLAKE_SCHEMA']}'\n",
    "\"\"\"\n",
    "metadata = pd.read_sql(query, engine)\n",
    "metadata.columns = [col.lower() for col in metadata.columns]\n",
    "\n",
    "print(\"\\nAvailable tables:\", metadata['table_name'].unique())"
   ]
  },
  {
   "cell_type": "code",
   "execution_count": 19,
   "metadata": {},
   "outputs": [
    {
     "name": "stdout",
     "output_type": "stream",
     "text": [
      "SALES_DATA\n",
      "PATIENT_ADMISSIONS\n",
      "ADDRESSES\n"
     ]
    }
   ],
   "source": [
    "for i in metadata['table_name'].unique():\n",
    "    print(i)"
   ]
  },
  {
   "cell_type": "code",
   "execution_count": 22,
   "metadata": {},
   "outputs": [
    {
     "name": "stdout",
     "output_type": "stream",
     "text": [
      "\n",
      "Retrieving data from table: SALES_DATA\n",
      "Retrieved 66612 rows\n"
     ]
    }
   ],
   "source": [
    "table_name = metadata['table_name'].unique()[0]  # Get first table only\n",
    "\n",
    "print(f\"\\nRetrieving data from table: {table_name}\")\n",
    "\n",
    "query = f\"SELECT * FROM {required_vars['SNOWFLAKE_DATABASE']}.{required_vars['SNOWFLAKE_SCHEMA']}.{table_name}\"\n",
    "df = pd.read_sql(query, engine)\n",
    "print(f\"Retrieved {len(df)} rows\")\n"
   ]
  },
  {
   "cell_type": "code",
   "execution_count": 21,
   "metadata": {},
   "outputs": [],
   "source": [
    "# # if you want to load all tables >>\n",
    "# for i in metadata['table_name'].unique():\n",
    "#     print(i)\n",
    "#     print(f\"\\nRetrieving data from table: {table_name}\")\n",
    "\n",
    "#     query = f\"SELECT * FROM {required_vars['SNOWFLAKE_DATABASE']}.{required_vars['SNOWFLAKE_SCHEMA']}.{table_name}\"\n",
    "#     df = pd.read_sql(query, engine)\n",
    "#     print(f\"Retrieved {len(df)} rows\")"
   ]
  },
  {
   "cell_type": "code",
   "execution_count": 23,
   "metadata": {},
   "outputs": [
    {
     "name": "stdout",
     "output_type": "stream",
     "text": [
      "\n",
      "Sampled 1000 rows from original 66612 rows\n",
      "\n",
      "Sample of data:\n",
      "      sls_doc_typ billing_type  cust_no  fisc_yr  fisc_mo     cal_day  \\\n",
      "57924        ZORT         ZF2T   107399     2024        7  2024-07-23   \n",
      "40124        ZF2K         ZF2K   140722     2024        7  2024-07-19   \n",
      "44867        ZORH         ZF2H   100002     2024        7  2024-07-22   \n",
      "23578        ZF2K         ZF2K   125816     2024        7  2024-07-03   \n",
      "51710        ZORH         ZF2H   110256     2024        7  2024-07-24   \n",
      "\n",
      "       fisc_wk_num  sls_ofc_cv_cd            sls_ofc_cv sls_grp_cv_cd  ...  \\\n",
      "57924            4           1240                 Hyper           T42  ...   \n",
      "40124            3           3220  Neighborhood Channel           K50  ...   \n",
      "44867            3           1150                CHAINS           H52  ...   \n",
      "23578            1           3210          Modern Trade           K12  ...   \n",
      "51710            4           1160         GENERAL TRADE           H63  ...   \n",
      "\n",
      "           country                          edw_cust_nm currency from_crncy  \\\n",
      "57924       Taiwan            Rt-Mart International Ltd      TWD        TWD   \n",
      "40124  South Korea  KOREA SEVEN INCHEON LOGISTICS CENTE      KRW        KRW   \n",
      "44867    Hong Kong          PARK'N SHOP LTD. KWAI CHUNG      HKD        HKD   \n",
      "23578  South Korea                 (JU) E-MART GARDEN 5      KRW        KRW   \n",
      "51710    Hong Kong     WING KEUNG MEDICINE COMPANY LTD.      HKD        HKD   \n",
      "\n",
      "      to_crncy ex_rt_typ     ex_rt country_cd               company_nm  \\\n",
      "57924      SGD      BWAR  0.042570         TW  JNTL Cons.Health TW Ltd   \n",
      "40124      SGD      BWAR  0.001023         KR        J&J Korea S&D LLC   \n",
      "44867      HKD      BWAR  1.000000         HK            J&J Hong Kong   \n",
      "23578      SGD      BWAR  0.001023         KR        J&J Korea S&D LLC   \n",
      "51710      USD      BWAR  0.127490         HK            J&J Hong Kong   \n",
      "\n",
      "      current_fisc_per  \n",
      "57924          2018012  \n",
      "40124          2018012  \n",
      "44867          2018012  \n",
      "23578          2018012  \n",
      "51710          2018012  \n",
      "\n",
      "[5 rows x 42 columns]\n"
     ]
    }
   ],
   "source": [
    "sample_size = min(int(len(df) * 0.05), 1000)\n",
    "sampled_df = df.sample(n=sample_size, random_state=42)\n",
    "print(f\"\\nSampled {len(sampled_df)} rows from original {len(df)} rows\")\n",
    "print(\"\\nSample of data:\")\n",
    "print(sampled_df.head())"
   ]
  },
  {
   "cell_type": "code",
   "execution_count": 24,
   "metadata": {},
   "outputs": [],
   "source": [
    "model = AzureChatOpenAI(\n",
    "    azure_endpoint=required_vars[\"AZURE_OPENAI_ENDPOINT\"],\n",
    "    azure_deployment=required_vars[\"AZURE_OPENAI_4o_DEPLOYMENT_NAME\"],\n",
    "    openai_api_version=required_vars[\"AZURE_OPENAI_API_VERSION\"],\n",
    "    openai_api_key=required_vars[\"AZURE_OPENAI_API_KEY\"],\n",
    ")"
   ]
  },
  {
   "cell_type": "code",
   "execution_count": 25,
   "metadata": {},
   "outputs": [],
   "source": [
    "data_str = StringIO()\n",
    "sampled_df.head(100).to_csv(data_str, index=False)\n",
    "data_str = data_str.getvalue()"
   ]
  },
  {
   "cell_type": "code",
   "execution_count": 26,
   "metadata": {},
   "outputs": [],
   "source": [
    "table_metadata = metadata[metadata['table_name'] == table_name]"
   ]
  },
  {
   "cell_type": "code",
   "execution_count": 31,
   "metadata": {},
   "outputs": [
    {
     "name": "stdout",
     "output_type": "stream",
     "text": [
      "Generating data quality insights...\n",
      "\n",
      "Data quality insights generated\n"
     ]
    }
   ],
   "source": [
    "data_quality_prompt = f\"\"\"\n",
    "Analyze this data sample ({len(sampled_df)} total rows, showing first 100):\n",
    "\n",
    "Table Data:\n",
    "{data_str}\n",
    "\n",
    "Table Metadata:\n",
    "{table_metadata[['column_name', 'data_type']].to_string()}\n",
    "\n",
    "Please provide a comprehensive analysis focusing on:\n",
    "1. Data quality issues\n",
    "2. Pattern anomalies\n",
    "3. Potential sensitive data fields\n",
    "4. Suggested improvements\n",
    "\n",
    "Format your response as JSON with these keys:\n",
    "- data_quality_issues\n",
    "- recommended_solutions\n",
    "- sql_queries\n",
    "- sensitive_data_recommendations\n",
    "\"\"\"\n",
    "\n",
    "system_prompt_quality = \"\"\"You are a specialized data analyst expert in Snowflake databases.\n",
    "Analyze the provided data sample focusing on data quality and patterns.\n",
    "Keep responses focused and brief. Ensure JSON format.\"\"\"\n",
    "\n",
    "messages_quality = [\n",
    "    {\"role\": \"system\", \"content\": system_prompt_quality},\n",
    "    {\"role\": \"user\", \"content\": data_quality_prompt}\n",
    "]\n",
    "\n",
    "print(\"Generating data quality insights...\")\n",
    "quality_response = model.invoke(messages_quality)\n",
    "print(\"\\nData quality insights generated\")"
   ]
  },
  {
   "cell_type": "code",
   "execution_count": 33,
   "metadata": {},
   "outputs": [
    {
     "name": "stdout",
     "output_type": "stream",
     "text": [
      "\n",
      "Generating semantic analysis...\n",
      "Semantic analysis generated\n"
     ]
    }
   ],
   "source": [
    "semantic_prompt = f\"\"\"\n",
    "Analysis for Snowflake table '{table_name}':\n",
    "Consider Snowflake-specific data types and variant/array columns.\n",
    "\n",
    "Sample data:\n",
    "{data_str}\n",
    "\n",
    "Metadata:\n",
    "{table_metadata.to_string()}\n",
    "\n",
    "Analyze each column focusing on:\n",
    "1. Scan through the records of each column to check if the data aligns with its semantic meaning.\n",
    "2. Highlight errors ONLY IF the semantic meaning does not align with the column name.\n",
    "3. Skip the columns where the semantic meaning and the data it holds is valid.\n",
    "4. Check for Snowflake-specific data type optimizations.\n",
    "5. ONLY provide column names and their issues.\n",
    "6. Go through all the columns and all the tables.\n",
    "7. Ensure the format intact.\n",
    "8. Please provide details of columns which has issues.\n",
    "9. Provide all the inconsistencies present with their values.\n",
    "10. In example provide all the discrepancy values.\n",
    "\n",
    "Format your response focusing only on columns with issues, providing:\n",
    "1. Column name\n",
    "2. Current semantic meaning\n",
    "3. Data type issues\n",
    "4. Example of inconsistent values\n",
    "5. Recommended improvements\n",
    "\"\"\"\n",
    "\n",
    "system_prompt_semantic = \"\"\"You are a data semantic analysis expert.\n",
    "Focus on semantic meaning of columns and data type consistency.\n",
    "Provide clear, specific examples of any misalignments found.\n",
    "Keep analysis focused on columns with actual issues.\"\"\"\n",
    "\n",
    "messages_semantic = [\n",
    "    {\"role\": \"system\", \"content\": system_prompt_semantic},\n",
    "    {\"role\": \"user\", \"content\": semantic_prompt}\n",
    "]\n",
    "\n",
    "print(\"\\nGenerating semantic analysis...\")\n",
    "semantic_response = model.invoke(messages_semantic)\n",
    "print(\"Semantic analysis generated\")"
   ]
  },
  {
   "cell_type": "code",
   "execution_count": 34,
   "metadata": {},
   "outputs": [
    {
     "name": "stdout",
     "output_type": "stream",
     "text": [
      "\n",
      "Generating semantic analysis...\n",
      "Semantic analysis generated\n"
     ]
    }
   ],
   "source": [
    "semantic_prompt = f\"\"\"\n",
    "Analysis for Snowflake table '{table_name}':\n",
    "Consider Snowflake-specific data types and variant/array columns.\n",
    "\n",
    "Sample data:\n",
    "{data_str}\n",
    "\n",
    "Metadata:\n",
    "{table_metadata.to_string()}\n",
    "\n",
    "Analyze each column focusing on:\n",
    "1. Scan through the records of each column to check if the data aligns with its semantic meaning.\n",
    "2. Highlight errors ONLY IF the semantic meaning does not align with the column name.\n",
    "3. Skip the columns where the semantic meaning and the data it holds is valid.\n",
    "4. Check for Snowflake-specific data type optimizations.\n",
    "5. ONLY provide column names and their issues.\n",
    "6. Go through all the columns and all the tables.\n",
    "7. Ensure the format intact.\n",
    "8. Please provide details of columns which has issues.\n",
    "9. Provide all the inconsistencies present with their values.\n",
    "10. In example provide all the discrepancy values.\n",
    "\n",
    "Format your response focusing only on columns with issues, providing:\n",
    "1. Column name\n",
    "2. Current semantic meaning\n",
    "3. Data type issues\n",
    "4. Example of inconsistent values\n",
    "5. Recommended improvements\n",
    "\"\"\"\n",
    "\n",
    "system_prompt_semantic = \"\"\"You are a data semantic analysis expert.\n",
    "Focus on semantic meaning of columns and data type consistency.\n",
    "Provide clear, specific examples of any misalignments found.\n",
    "Keep analysis focused on columns with actual issues.\"\"\"\n",
    "\n",
    "messages_semantic = [\n",
    "    {\"role\": \"system\", \"content\": system_prompt_semantic},\n",
    "    {\"role\": \"user\", \"content\": semantic_prompt}\n",
    "]\n",
    "\n",
    "print(\"\\nGenerating semantic analysis...\")\n",
    "semantic_response = model.invoke(messages_semantic)\n",
    "print(\"Semantic analysis generated\")"
   ]
  },
  {
   "cell_type": "code",
   "execution_count": 35,
   "metadata": {},
   "outputs": [
    {
     "name": "stdout",
     "output_type": "stream",
     "text": [
      "\n",
      "Results saved to analysis_results_20250217_131953.json\n"
     ]
    }
   ],
   "source": [
    "# timestamp = datetime.now().strftime(\"%Y%m%d_%H%M%S\")\n",
    "# results = {\n",
    "#     'table_name': table_name,\n",
    "#     'timestamp': timestamp,\n",
    "#     'data_quality_analysis': quality_response.content,\n",
    "#     'semantic_analysis': semantic_response.content\n",
    "# }\n",
    "\n",
    "# # Save to JSON file\n",
    "# with open(f'analysis_results_{timestamp}.json', 'w') as f:\n",
    "#     json.dump(results, f, indent=2)\n",
    "# print(f\"\\nResults saved to analysis_results_{timestamp}.json\")"
   ]
  },
  {
   "cell_type": "code",
   "execution_count": 37,
   "metadata": {},
   "outputs": [
    {
     "name": "stdout",
     "output_type": "stream",
     "text": [
      "\n",
      "Results saved to analysis_results_20250217_132252.csv\n",
      "\n",
      "Preview of CSV content:\n",
      "   table_name        timestamp  \\\n",
      "0  SALES_DATA  20250217_132252   \n",
      "\n",
      "                               data_quality_analysis  \\\n",
      "0  ```json\\n{\\n  \"data_quality_issues\": {\\n    \"i...   \n",
      "\n",
      "                                   semantic_analysis  \n",
      "0  1. **CATEGROY_2**\\n   - **Current semantic mea...  \n"
     ]
    }
   ],
   "source": [
    "### json to csv >>>>>>>>>>>>\n",
    "\n",
    "\n",
    "timestamp = datetime.now().strftime(\"%Y%m%d_%H%M%S\")\n",
    "\n",
    "# Parse the quality analysis response if it's in JSON format\n",
    "try:\n",
    "    quality_data = json.loads(quality_response.content)\n",
    "except json.JSONDecodeError:\n",
    "    quality_data = quality_response.content\n",
    "\n",
    "# Create a flattened dictionary for CSV\n",
    "flattened_results = {\n",
    "    'table_name': [table_name],\n",
    "    'timestamp': [timestamp]\n",
    "}\n",
    "\n",
    "# Add quality analysis data\n",
    "if isinstance(quality_data, dict):\n",
    "    for key, value in quality_data.items():\n",
    "        flattened_results[f'quality_{key}'] = [value]\n",
    "else:\n",
    "    flattened_results['data_quality_analysis'] = [quality_data]\n",
    "\n",
    "# Add semantic analysis\n",
    "flattened_results['semantic_analysis'] = [semantic_response.content]\n",
    "\n",
    "# Convert to DataFrame\n",
    "df = pd.DataFrame(flattened_results)\n",
    "\n",
    "# Save to CSV\n",
    "csv_filename = f'analysis_results_{timestamp}.csv'\n",
    "df.to_csv(csv_filename, index=False, encoding='utf-8')\n",
    "print(f\"\\nResults saved to {csv_filename}\")\n",
    "\n",
    "# Display preview\n",
    "print(\"\\nPreview of CSV content:\")\n",
    "print(df.head())"
   ]
  },
  {
   "cell_type": "code",
   "execution_count": 38,
   "metadata": {},
   "outputs": [
    {
     "name": "stdout",
     "output_type": "stream",
     "text": [
      "\n",
      "Database connection closed\n"
     ]
    }
   ],
   "source": [
    "engine.dispose()\n",
    "print(\"\\nDatabase connection closed\")"
   ]
  },
  {
   "cell_type": "code",
   "execution_count": null,
   "metadata": {},
   "outputs": [],
   "source": []
  },
  {
   "cell_type": "code",
   "execution_count": null,
   "metadata": {},
   "outputs": [],
   "source": []
  },
  {
   "cell_type": "code",
   "execution_count": null,
   "metadata": {},
   "outputs": [],
   "source": []
  }
 ],
 "metadata": {
  "kernelspec": {
   "display_name": "venv",
   "language": "python",
   "name": "python3"
  },
  "language_info": {
   "codemirror_mode": {
    "name": "ipython",
    "version": 3
   },
   "file_extension": ".py",
   "mimetype": "text/x-python",
   "name": "python",
   "nbconvert_exporter": "python",
   "pygments_lexer": "ipython3",
   "version": "3.11.7"
  }
 },
 "nbformat": 4,
 "nbformat_minor": 2
}
